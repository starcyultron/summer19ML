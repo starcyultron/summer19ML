{
  "nbformat": 4,
  "nbformat_minor": 0,
  "metadata": {
    "colab": {
      "name": "Lemmatize.ipynb",
      "version": "0.3.2",
      "provenance": [],
      "include_colab_link": true
    },
    "kernelspec": {
      "name": "python3",
      "display_name": "Python 3"
    }
  },
  "cells": [
    {
      "cell_type": "markdown",
      "metadata": {
        "id": "view-in-github",
        "colab_type": "text"
      },
      "source": [
        "<a href=\"https://colab.research.google.com/github/starcyultron/summer19ML/blob/master/Lemmatize.ipynb\" target=\"_parent\"><img src=\"https://colab.research.google.com/assets/colab-badge.svg\" alt=\"Open In Colab\"/></a>"
      ]
    },
    {
      "cell_type": "code",
      "metadata": {
        "id": "wvoch46hbia1",
        "colab_type": "code",
        "colab": {}
      },
      "source": [
        "import spacy"
      ],
      "execution_count": 0,
      "outputs": []
    },
    {
      "cell_type": "code",
      "metadata": {
        "id": "mDWhfH0MfF1u",
        "colab_type": "code",
        "colab": {}
      },
      "source": [
        "nlp=spacy.load('en')"
      ],
      "execution_count": 0,
      "outputs": []
    },
    {
      "cell_type": "code",
      "metadata": {
        "id": "c3p_1SDZfMlz",
        "colab_type": "code",
        "colab": {}
      },
      "source": [
        "data=\"hii I am nikhil khicher how are you m nikhil will help you you know how\""
      ],
      "execution_count": 0,
      "outputs": []
    },
    {
      "cell_type": "code",
      "metadata": {
        "id": "cuR2WRlffWQ7",
        "colab_type": "code",
        "colab": {}
      },
      "source": [
        "new_data=nlp(data) # automatic tokenize"
      ],
      "execution_count": 0,
      "outputs": []
    },
    {
      "cell_type": "code",
      "metadata": {
        "id": "RHHgEh17fbp1",
        "colab_type": "code",
        "outputId": "c0ca863a-5d1c-48a3-8d52-d542c31b4a31",
        "colab": {
          "base_uri": "https://localhost:8080/",
          "height": 847
        }
      },
      "source": [
        "for i in new_data :\n",
        "  print(i,\"lemma of word is --->\",i.lemma_)\n",
        "  print(\"##########\")\n",
        "  print(i,\"POS=part of speech\",i.pos_)\n",
        "  \n",
        "\n",
        "  # spacy is similar to nltk \n",
        "  # spacy is amsmall library"
      ],
      "execution_count": 0,
      "outputs": [
        {
          "output_type": "stream",
          "text": [
            "hii lemma of word is ---> hii\n",
            "##########\n",
            "hii POS=part of speech INTJ\n",
            "I lemma of word is ---> -PRON-\n",
            "##########\n",
            "I POS=part of speech PRON\n",
            "am lemma of word is ---> be\n",
            "##########\n",
            "am POS=part of speech VERB\n",
            "nikhil lemma of word is ---> nikhil\n",
            "##########\n",
            "nikhil POS=part of speech NOUN\n",
            "khicher lemma of word is ---> khicher\n",
            "##########\n",
            "khicher POS=part of speech NOUN\n",
            "how lemma of word is ---> how\n",
            "##########\n",
            "how POS=part of speech ADV\n",
            "are lemma of word is ---> be\n",
            "##########\n",
            "are POS=part of speech VERB\n",
            "you lemma of word is ---> -PRON-\n",
            "##########\n",
            "you POS=part of speech PRON\n",
            "m lemma of word is ---> m\n",
            "##########\n",
            "m POS=part of speech NUM\n",
            "nikhil lemma of word is ---> nikhil\n",
            "##########\n",
            "nikhil POS=part of speech NOUN\n",
            "will lemma of word is ---> will\n",
            "##########\n",
            "will POS=part of speech VERB\n",
            "help lemma of word is ---> help\n",
            "##########\n",
            "help POS=part of speech VERB\n",
            "you lemma of word is ---> -PRON-\n",
            "##########\n",
            "you POS=part of speech PRON\n",
            "you lemma of word is ---> -PRON-\n",
            "##########\n",
            "you POS=part of speech PRON\n",
            "know lemma of word is ---> know\n",
            "##########\n",
            "know POS=part of speech VERB\n",
            "how lemma of word is ---> how\n",
            "##########\n",
            "how POS=part of speech ADV\n"
          ],
          "name": "stdout"
        }
      ]
    },
    {
      "cell_type": "code",
      "metadata": {
        "id": "yzdVIr3Bfhki",
        "colab_type": "code",
        "colab": {}
      },
      "source": [
        ""
      ],
      "execution_count": 0,
      "outputs": []
    }
  ]
}