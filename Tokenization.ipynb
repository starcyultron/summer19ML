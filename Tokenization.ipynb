{
  "nbformat": 4,
  "nbformat_minor": 0,
  "metadata": {
    "colab": {
      "name": "Tokenization.ipynb",
      "version": "0.3.2",
      "provenance": [],
      "collapsed_sections": [],
      "include_colab_link": true
    },
    "kernelspec": {
      "name": "python3",
      "display_name": "Python 3"
    }
  },
  "cells": [
    {
      "cell_type": "markdown",
      "metadata": {
        "id": "view-in-github",
        "colab_type": "text"
      },
      "source": [
        "<a href=\"https://colab.research.google.com/github/starcyultron/summer19ML/blob/master/Tokenization.ipynb\" target=\"_parent\"><img src=\"https://colab.research.google.com/assets/colab-badge.svg\" alt=\"Open In Colab\"/></a>"
      ]
    },
    {
      "cell_type": "code",
      "metadata": {
        "id": "mNyPPzm6QMDF",
        "colab_type": "code",
        "colab": {}
      },
      "source": [
        "import nltk\n",
        "msg='''\n",
        "hey this is niks bro and:\n",
        "I am bhot bdia.\n",
        "there is no scope of future.\n",
        "why am i writing these sentences.\n",
        "these all are worst sentences ever written by me.\n",
        "But its okk now ya.\n",
        "Crawlers consume resources on visited systems and often visit sites without approval.\n",
        "Issues of schedule, load, and \"politeness\" come into play when large collections of pages are accessed.\n",
        "Mechanisms exist for public sites not wishing to be crawled to make this known to the crawling agent.\n",
        "For example, including a robots.txt file can request bots to index only parts of a website, or nothing at all.'''"
      ],
      "execution_count": 0,
      "outputs": []
    },
    {
      "cell_type": "code",
      "metadata": {
        "id": "owuW2RCBXbb0",
        "colab_type": "code",
        "colab": {}
      },
      "source": [
        "#import tokenize\n",
        "from nltk.tokenize import sent_tokenize\n",
        "from nltk.tokenize import word_tokenize"
      ],
      "execution_count": 0,
      "outputs": []
    },
    {
      "cell_type": "code",
      "metadata": {
        "id": "qilGrTTcX5x6",
        "colab_type": "code",
        "colab": {}
      },
      "source": [
        "# sentence\n",
        "sent=sent_tokenize(msg)"
      ],
      "execution_count": 0,
      "outputs": []
    },
    {
      "cell_type": "code",
      "metadata": {
        "id": "8EUaVz7yYGei",
        "colab_type": "code",
        "colab": {
          "base_uri": "https://localhost:8080/",
          "height": 173
        },
        "outputId": "b44d5ec6-1444-48c7-d017-94b4aeec82b8"
      },
      "source": [
        "sent"
      ],
      "execution_count": 29,
      "outputs": [
        {
          "output_type": "execute_result",
          "data": {
            "text/plain": [
              "['\\nhey this is niks bro and:\\nI am bhot bdia.',\n",
              " 'there is no scope of future.',\n",
              " 'why am i writing these sentences.',\n",
              " 'these all are worst sentences ever written by me.',\n",
              " 'But its okk now ya.',\n",
              " 'Crawlers consume resources on visited systems and often visit sites without approval.',\n",
              " 'Issues of schedule, load, and \"politeness\" come into play when large collections of pages are accessed.',\n",
              " 'Mechanisms exist for public sites not wishing to be crawled to make this known to the crawling agent.',\n",
              " 'For example, including a robots.txt file can request bots to index only parts of a website, or nothing at all.']"
            ]
          },
          "metadata": {
            "tags": []
          },
          "execution_count": 29
        }
      ]
    },
    {
      "cell_type": "code",
      "metadata": {
        "id": "pJ96t51dYn3R",
        "colab_type": "code",
        "colab": {
          "base_uri": "https://localhost:8080/",
          "height": 34
        },
        "outputId": "70cd9cea-b66d-4284-8350-cf9fac848ca1"
      },
      "source": [
        "len(sent)"
      ],
      "execution_count": 30,
      "outputs": [
        {
          "output_type": "execute_result",
          "data": {
            "text/plain": [
              "9"
            ]
          },
          "metadata": {
            "tags": []
          },
          "execution_count": 30
        }
      ]
    },
    {
      "cell_type": "code",
      "metadata": {
        "id": "6zYxq9kuYrW1",
        "colab_type": "code",
        "colab": {}
      },
      "source": [
        "# noow tokenize by words\n",
        "word=word_tokenize(msg)"
      ],
      "execution_count": 0,
      "outputs": []
    },
    {
      "cell_type": "code",
      "metadata": {
        "id": "FR29d65QY1mS",
        "colab_type": "code",
        "colab": {
          "base_uri": "https://localhost:8080/",
          "height": 34
        },
        "outputId": "c7de0adf-85b4-415a-af27-508394c8c626"
      },
      "source": [
        "len(word)"
      ],
      "execution_count": 13,
      "outputs": [
        {
          "output_type": "execute_result",
          "data": {
            "text/plain": [
              "117"
            ]
          },
          "metadata": {
            "tags": []
          },
          "execution_count": 13
        }
      ]
    },
    {
      "cell_type": "code",
      "metadata": {
        "id": "fHM43NU1Y2sg",
        "colab_type": "code",
        "colab": {}
      },
      "source": [
        "# stopwords remove\n",
        "from nltk.corpus import stopwords"
      ],
      "execution_count": 0,
      "outputs": []
    },
    {
      "cell_type": "code",
      "metadata": {
        "id": "DgZdg4bfZC2j",
        "colab_type": "code",
        "colab": {}
      },
      "source": [
        "# remove stopwords from actual word\n",
        "new_word=[i for i in word if i.lower() not in stopwords.words('english')]"
      ],
      "execution_count": 0,
      "outputs": []
    },
    {
      "cell_type": "code",
      "metadata": {
        "id": "pLYrW3bUZVT_",
        "colab_type": "code",
        "colab": {
          "base_uri": "https://localhost:8080/",
          "height": 34
        },
        "outputId": "c23d8792-6546-49b1-ae85-96cb1b11b6ba"
      },
      "source": [
        "len(new_word)"
      ],
      "execution_count": 16,
      "outputs": [
        {
          "output_type": "execute_result",
          "data": {
            "text/plain": [
              "70"
            ]
          },
          "metadata": {
            "tags": []
          },
          "execution_count": 16
        }
      ]
    },
    {
      "cell_type": "code",
      "metadata": {
        "id": "FfxUMhwpZYXv",
        "colab_type": "code",
        "colab": {}
      },
      "source": [
        "# fre\n",
        "import nltk\n",
        "import matplotlib.pyplot as plt"
      ],
      "execution_count": 0,
      "outputs": []
    },
    {
      "cell_type": "code",
      "metadata": {
        "id": "qyObchWMZmhN",
        "colab_type": "code",
        "colab": {
          "base_uri": "https://localhost:8080/",
          "height": 324
        },
        "outputId": "fc53ec04-365b-4335-e631-ebe1221b43f7"
      },
      "source": [
        "nlp=nltk.FreqDist(word)\n",
        "nlp.plot(20)"
      ],
      "execution_count": 24,
      "outputs": [
        {
          "output_type": "display_data",
          "data": {
            "image/png": "[encoded data removed]",
            "text/plain": [
              "<Figure size 432x288 with 1 Axes>"
            ]
          },
          "metadata": {
            "tags": []
          }
        }
      ]
    },
    {
      "cell_type": "code",
      "metadata": {
        "id": "Gvy3h-eoZswD",
        "colab_type": "code",
        "colab": {
          "base_uri": "https://localhost:8080/",
          "height": 324
        },
        "outputId": "99a8a9b1-ce55-4983-828f-892cca5ce2e8"
      },
      "source": [
        "nlp=nltk.FreqDist(new_word)\n",
        "nlp.plot(20)"
      ],
      "execution_count": 25,
      "outputs": [
        {
          "output_type": "display_data",
          "data": {
            "image/png": "[encoded data removed]",
            "text/plain": [
              "<Figure size 432x288 with 1 Axes>"
            ]
          },
          "metadata": {
            "tags": []
          }
        }
      ]
    },
    {
      "cell_type": "code",
      "metadata": {
        "id": "dy7GFNGfZyDc",
        "colab_type": "code",
        "colab": {}
      },
      "source": [
        ""
      ],
      "execution_count": 0,
      "outputs": []
    }
  ]
}